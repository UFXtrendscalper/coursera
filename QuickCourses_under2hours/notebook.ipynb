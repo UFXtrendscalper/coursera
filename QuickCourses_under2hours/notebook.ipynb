{
 "cells": [
  {
   "cell_type": "code",
   "execution_count": 351,
   "metadata": {},
   "outputs": [],
   "source": [
    "import yfinance as yf "
   ]
  },
  {
   "cell_type": "code",
   "execution_count": 352,
   "metadata": {},
   "outputs": [
    {
     "name": "stdout",
     "output_type": "stream",
     "text": [
      "[*********************100%***********************]  1 of 1 completed\n"
     ]
    },
    {
     "data": {
      "text/html": [
       "<div>\n",
       "<style scoped>\n",
       "    .dataframe tbody tr th:only-of-type {\n",
       "        vertical-align: middle;\n",
       "    }\n",
       "\n",
       "    .dataframe tbody tr th {\n",
       "        vertical-align: top;\n",
       "    }\n",
       "\n",
       "    .dataframe thead th {\n",
       "        text-align: right;\n",
       "    }\n",
       "</style>\n",
       "<table border=\"1\" class=\"dataframe\">\n",
       "  <thead>\n",
       "    <tr style=\"text-align: right;\">\n",
       "      <th></th>\n",
       "      <th>Open</th>\n",
       "      <th>High</th>\n",
       "      <th>Low</th>\n",
       "      <th>Close</th>\n",
       "      <th>Adj Close</th>\n",
       "      <th>Volume</th>\n",
       "      <th>Dividends</th>\n",
       "      <th>Stock Splits</th>\n",
       "    </tr>\n",
       "    <tr>\n",
       "      <th>Date</th>\n",
       "      <th></th>\n",
       "      <th></th>\n",
       "      <th></th>\n",
       "      <th></th>\n",
       "      <th></th>\n",
       "      <th></th>\n",
       "      <th></th>\n",
       "      <th></th>\n",
       "    </tr>\n",
       "  </thead>\n",
       "  <tbody>\n",
       "    <tr>\n",
       "      <th>1980-03-17</th>\n",
       "      <td>0.000000</td>\n",
       "      <td>7.666667</td>\n",
       "      <td>7.500000</td>\n",
       "      <td>7.500000</td>\n",
       "      <td>0.436423</td>\n",
       "      <td>13350</td>\n",
       "      <td>0.0</td>\n",
       "      <td>0.0</td>\n",
       "    </tr>\n",
       "    <tr>\n",
       "      <th>1980-03-18</th>\n",
       "      <td>0.000000</td>\n",
       "      <td>7.583333</td>\n",
       "      <td>7.333333</td>\n",
       "      <td>7.583333</td>\n",
       "      <td>0.441272</td>\n",
       "      <td>19200</td>\n",
       "      <td>0.0</td>\n",
       "      <td>0.0</td>\n",
       "    </tr>\n",
       "    <tr>\n",
       "      <th>1980-03-19</th>\n",
       "      <td>0.000000</td>\n",
       "      <td>7.750000</td>\n",
       "      <td>7.583333</td>\n",
       "      <td>7.583333</td>\n",
       "      <td>0.441272</td>\n",
       "      <td>12450</td>\n",
       "      <td>0.0</td>\n",
       "      <td>0.0</td>\n",
       "    </tr>\n",
       "    <tr>\n",
       "      <th>1980-03-20</th>\n",
       "      <td>0.000000</td>\n",
       "      <td>7.666667</td>\n",
       "      <td>7.416667</td>\n",
       "      <td>7.500000</td>\n",
       "      <td>0.436423</td>\n",
       "      <td>14700</td>\n",
       "      <td>0.0</td>\n",
       "      <td>0.0</td>\n",
       "    </tr>\n",
       "    <tr>\n",
       "      <th>1980-03-21</th>\n",
       "      <td>0.000000</td>\n",
       "      <td>7.583333</td>\n",
       "      <td>7.500000</td>\n",
       "      <td>7.583333</td>\n",
       "      <td>0.441272</td>\n",
       "      <td>10200</td>\n",
       "      <td>0.0</td>\n",
       "      <td>0.0</td>\n",
       "    </tr>\n",
       "    <tr>\n",
       "      <th>...</th>\n",
       "      <td>...</td>\n",
       "      <td>...</td>\n",
       "      <td>...</td>\n",
       "      <td>...</td>\n",
       "      <td>...</td>\n",
       "      <td>...</td>\n",
       "      <td>...</td>\n",
       "      <td>...</td>\n",
       "    </tr>\n",
       "    <tr>\n",
       "      <th>2023-08-24</th>\n",
       "      <td>17.260000</td>\n",
       "      <td>17.299999</td>\n",
       "      <td>16.959999</td>\n",
       "      <td>16.959999</td>\n",
       "      <td>16.959999</td>\n",
       "      <td>164100</td>\n",
       "      <td>0.0</td>\n",
       "      <td>0.0</td>\n",
       "    </tr>\n",
       "    <tr>\n",
       "      <th>2023-08-25</th>\n",
       "      <td>16.990000</td>\n",
       "      <td>17.120001</td>\n",
       "      <td>16.910000</td>\n",
       "      <td>17.059999</td>\n",
       "      <td>17.059999</td>\n",
       "      <td>129800</td>\n",
       "      <td>0.0</td>\n",
       "      <td>0.0</td>\n",
       "    </tr>\n",
       "    <tr>\n",
       "      <th>2023-08-28</th>\n",
       "      <td>17.110001</td>\n",
       "      <td>17.200001</td>\n",
       "      <td>17.110001</td>\n",
       "      <td>17.190001</td>\n",
       "      <td>17.190001</td>\n",
       "      <td>221600</td>\n",
       "      <td>0.0</td>\n",
       "      <td>0.0</td>\n",
       "    </tr>\n",
       "    <tr>\n",
       "      <th>2023-08-29</th>\n",
       "      <td>17.200001</td>\n",
       "      <td>17.440001</td>\n",
       "      <td>17.190001</td>\n",
       "      <td>17.430000</td>\n",
       "      <td>17.430000</td>\n",
       "      <td>76100</td>\n",
       "      <td>0.0</td>\n",
       "      <td>0.0</td>\n",
       "    </tr>\n",
       "    <tr>\n",
       "      <th>2023-08-30</th>\n",
       "      <td>17.430000</td>\n",
       "      <td>17.580000</td>\n",
       "      <td>17.430000</td>\n",
       "      <td>17.570000</td>\n",
       "      <td>17.570000</td>\n",
       "      <td>165700</td>\n",
       "      <td>0.0</td>\n",
       "      <td>0.0</td>\n",
       "    </tr>\n",
       "  </tbody>\n",
       "</table>\n",
       "<p>10957 rows × 8 columns</p>\n",
       "</div>"
      ],
      "text/plain": [
       "                 Open       High        Low      Close  Adj Close  Volume  \\\n",
       "Date                                                                        \n",
       "1980-03-17   0.000000   7.666667   7.500000   7.500000   0.436423   13350   \n",
       "1980-03-18   0.000000   7.583333   7.333333   7.583333   0.441272   19200   \n",
       "1980-03-19   0.000000   7.750000   7.583333   7.583333   0.441272   12450   \n",
       "1980-03-20   0.000000   7.666667   7.416667   7.500000   0.436423   14700   \n",
       "1980-03-21   0.000000   7.583333   7.500000   7.583333   0.441272   10200   \n",
       "...               ...        ...        ...        ...        ...     ...   \n",
       "2023-08-24  17.260000  17.299999  16.959999  16.959999  16.959999  164100   \n",
       "2023-08-25  16.990000  17.120001  16.910000  17.059999  17.059999  129800   \n",
       "2023-08-28  17.110001  17.200001  17.110001  17.190001  17.190001  221600   \n",
       "2023-08-29  17.200001  17.440001  17.190001  17.430000  17.430000   76100   \n",
       "2023-08-30  17.430000  17.580000  17.430000  17.570000  17.570000  165700   \n",
       "\n",
       "            Dividends  Stock Splits  \n",
       "Date                                 \n",
       "1980-03-17        0.0           0.0  \n",
       "1980-03-18        0.0           0.0  \n",
       "1980-03-19        0.0           0.0  \n",
       "1980-03-20        0.0           0.0  \n",
       "1980-03-21        0.0           0.0  \n",
       "...               ...           ...  \n",
       "2023-08-24        0.0           0.0  \n",
       "2023-08-25        0.0           0.0  \n",
       "2023-08-28        0.0           0.0  \n",
       "2023-08-29        0.0           0.0  \n",
       "2023-08-30        0.0           0.0  \n",
       "\n",
       "[10957 rows x 8 columns]"
      ]
     },
     "execution_count": 352,
     "metadata": {},
     "output_type": "execute_result"
    }
   ],
   "source": [
    "# download data from y finance\n",
    "\n",
    "data = yf.download(\"ADX\", period=\"max\", interval=\"1d\", actions=\"True\")\n",
    "\n",
    "data"
   ]
  },
  {
   "cell_type": "code",
   "execution_count": 353,
   "metadata": {},
   "outputs": [
    {
     "data": {
      "text/html": [
       "<div>\n",
       "<style scoped>\n",
       "    .dataframe tbody tr th:only-of-type {\n",
       "        vertical-align: middle;\n",
       "    }\n",
       "\n",
       "    .dataframe tbody tr th {\n",
       "        vertical-align: top;\n",
       "    }\n",
       "\n",
       "    .dataframe thead th {\n",
       "        text-align: right;\n",
       "    }\n",
       "</style>\n",
       "<table border=\"1\" class=\"dataframe\">\n",
       "  <thead>\n",
       "    <tr style=\"text-align: right;\">\n",
       "      <th></th>\n",
       "      <th>Dividends</th>\n",
       "    </tr>\n",
       "    <tr>\n",
       "      <th>Date</th>\n",
       "      <th></th>\n",
       "    </tr>\n",
       "  </thead>\n",
       "  <tbody>\n",
       "    <tr>\n",
       "      <th>1984-10-01</th>\n",
       "      <td>0.08</td>\n",
       "    </tr>\n",
       "    <tr>\n",
       "      <th>1985-01-14</th>\n",
       "      <td>1.04</td>\n",
       "    </tr>\n",
       "    <tr>\n",
       "      <th>1985-04-01</th>\n",
       "      <td>0.08</td>\n",
       "    </tr>\n",
       "    <tr>\n",
       "      <th>1985-07-01</th>\n",
       "      <td>0.08</td>\n",
       "    </tr>\n",
       "    <tr>\n",
       "      <th>1985-10-01</th>\n",
       "      <td>0.08</td>\n",
       "    </tr>\n",
       "    <tr>\n",
       "      <th>...</th>\n",
       "      <td>...</td>\n",
       "    </tr>\n",
       "    <tr>\n",
       "      <th>2022-08-17</th>\n",
       "      <td>0.05</td>\n",
       "    </tr>\n",
       "    <tr>\n",
       "      <th>2022-11-18</th>\n",
       "      <td>0.92</td>\n",
       "    </tr>\n",
       "    <tr>\n",
       "      <th>2023-02-09</th>\n",
       "      <td>0.05</td>\n",
       "    </tr>\n",
       "    <tr>\n",
       "      <th>2023-05-17</th>\n",
       "      <td>0.05</td>\n",
       "    </tr>\n",
       "    <tr>\n",
       "      <th>2023-08-17</th>\n",
       "      <td>0.05</td>\n",
       "    </tr>\n",
       "  </tbody>\n",
       "</table>\n",
       "<p>157 rows × 1 columns</p>\n",
       "</div>"
      ],
      "text/plain": [
       "            Dividends\n",
       "Date                 \n",
       "1984-10-01       0.08\n",
       "1985-01-14       1.04\n",
       "1985-04-01       0.08\n",
       "1985-07-01       0.08\n",
       "1985-10-01       0.08\n",
       "...               ...\n",
       "2022-08-17       0.05\n",
       "2022-11-18       0.92\n",
       "2023-02-09       0.05\n",
       "2023-05-17       0.05\n",
       "2023-08-17       0.05\n",
       "\n",
       "[157 rows x 1 columns]"
      ]
     },
     "execution_count": 353,
     "metadata": {},
     "output_type": "execute_result"
    }
   ],
   "source": [
    "# show only the diviend column that had data > 0\n",
    "\n",
    "dividend_data =  data[data['Dividends'] > 0]\n",
    "\n",
    "dividend_data = dividend_data[['Dividends']]\n",
    "\n",
    "dividend_data"
   ]
  },
  {
   "cell_type": "code",
   "execution_count": 354,
   "metadata": {},
   "outputs": [],
   "source": [
    "# import plotly express\n",
    "import plotly.express as px"
   ]
  },
  {
   "cell_type": "code",
   "execution_count": 355,
   "metadata": {},
   "outputs": [
    {
     "data": {
      "application/vnd.plotly.v1+json": {
       "config": {
        "plotlyServerURL": "https://plot.ly"
       },
       "data": [
        {
         "hovertemplate": "Date=%{x}<br>Dividends=%{y}<extra></extra>",
         "legendgroup": "",
         "line": {
          "color": "#636efa",
          "dash": "solid"
         },
         "marker": {
          "symbol": "circle"
         },
         "mode": "lines",
         "name": "",
         "orientation": "v",
         "showlegend": false,
         "type": "scatter",
         "x": [
          "1984-10-01T00:00:00",
          "1985-01-14T00:00:00",
          "1985-04-01T00:00:00",
          "1985-07-01T00:00:00",
          "1985-10-01T00:00:00",
          "1986-01-14T00:00:00",
          "1986-04-02T00:00:00",
          "1986-07-02T00:00:00",
          "1986-10-02T00:00:00",
          "1986-11-03T00:00:00",
          "1987-01-13T00:00:00",
          "1987-04-02T00:00:00",
          "1987-07-02T00:00:00",
          "1987-11-17T00:00:00",
          "1988-01-19T00:00:00",
          "1988-05-10T00:00:00",
          "1988-08-10T00:00:00",
          "1988-11-15T00:00:00",
          "1989-01-17T00:00:00",
          "1989-05-16T00:00:00",
          "1989-08-16T00:00:00",
          "1989-11-14T00:00:00",
          "1990-02-13T00:00:00",
          "1990-05-15T00:00:00",
          "1990-08-15T00:00:00",
          "1990-11-13T00:00:00",
          "1991-02-12T00:00:00",
          "1991-05-14T00:00:00",
          "1991-08-13T00:00:00",
          "1991-11-19T00:00:00",
          "1992-02-11T00:00:00",
          "1992-05-12T00:00:00",
          "1992-08-11T00:00:00",
          "1992-11-17T00:00:00",
          "1993-02-09T00:00:00",
          "1993-05-11T00:00:00",
          "1993-08-02T00:00:00",
          "1993-11-16T00:00:00",
          "1994-02-08T00:00:00",
          "1994-05-10T00:00:00",
          "1994-08-16T00:00:00",
          "1994-11-15T00:00:00",
          "1995-02-14T00:00:00",
          "1995-05-09T00:00:00",
          "1995-08-17T00:00:00",
          "1995-11-16T00:00:00",
          "1996-02-15T00:00:00",
          "1996-05-16T00:00:00",
          "1996-08-15T00:00:00",
          "1996-11-21T00:00:00",
          "1997-02-20T00:00:00",
          "1997-05-15T00:00:00",
          "1997-08-14T00:00:00",
          "1997-11-20T00:00:00",
          "1998-02-20T00:00:00",
          "1998-05-18T00:00:00",
          "1998-08-18T00:00:00",
          "1998-11-19T00:00:00",
          "1999-02-19T00:00:00",
          "1999-05-17T00:00:00",
          "1999-08-17T00:00:00",
          "1999-11-18T00:00:00",
          "2000-02-16T00:00:00",
          "2000-05-17T00:00:00",
          "2000-08-16T00:00:00",
          "2000-11-16T00:00:00",
          "2001-02-14T00:00:00",
          "2001-05-16T00:00:00",
          "2001-08-15T00:00:00",
          "2001-11-15T00:00:00",
          "2002-02-14T00:00:00",
          "2002-05-15T00:00:00",
          "2002-08-14T00:00:00",
          "2002-11-21T00:00:00",
          "2003-02-14T00:00:00",
          "2003-05-14T00:00:00",
          "2003-08-13T00:00:00",
          "2003-11-20T00:00:00",
          "2004-02-12T00:00:00",
          "2004-05-13T00:00:00",
          "2004-08-13T00:00:00",
          "2004-11-19T00:00:00",
          "2005-02-15T00:00:00",
          "2005-05-17T00:00:00",
          "2005-08-12T00:00:00",
          "2005-11-18T00:00:00",
          "2006-02-14T00:00:00",
          "2006-05-16T00:00:00",
          "2006-08-11T00:00:00",
          "2006-11-17T00:00:00",
          "2007-02-13T00:00:00",
          "2007-05-15T00:00:00",
          "2007-08-10T00:00:00",
          "2007-11-16T00:00:00",
          "2008-02-12T00:00:00",
          "2008-05-13T00:00:00",
          "2008-08-08T00:00:00",
          "2008-11-19T00:00:00",
          "2009-02-11T00:00:00",
          "2009-05-13T00:00:00",
          "2009-08-12T00:00:00",
          "2009-11-18T00:00:00",
          "2010-02-10T00:00:00",
          "2010-05-12T00:00:00",
          "2010-08-11T00:00:00",
          "2010-11-17T00:00:00",
          "2011-02-09T00:00:00",
          "2011-05-11T00:00:00",
          "2011-08-10T00:00:00",
          "2011-11-17T00:00:00",
          "2012-02-08T00:00:00",
          "2012-05-10T00:00:00",
          "2012-08-08T00:00:00",
          "2012-11-15T00:00:00",
          "2013-02-13T00:00:00",
          "2013-05-13T00:00:00",
          "2013-08-13T00:00:00",
          "2013-11-21T00:00:00",
          "2014-02-12T00:00:00",
          "2014-05-12T00:00:00",
          "2014-08-08T00:00:00",
          "2014-11-20T00:00:00",
          "2015-02-10T00:00:00",
          "2015-05-11T00:00:00",
          "2015-08-10T00:00:00",
          "2015-11-23T00:00:00",
          "2016-02-10T00:00:00",
          "2016-05-11T00:00:00",
          "2016-08-10T00:00:00",
          "2016-11-22T00:00:00",
          "2017-02-08T00:00:00",
          "2017-05-10T00:00:00",
          "2017-08-09T00:00:00",
          "2017-11-21T00:00:00",
          "2018-02-15T00:00:00",
          "2018-05-17T00:00:00",
          "2018-08-16T00:00:00",
          "2018-11-23T00:00:00",
          "2019-02-14T00:00:00",
          "2019-05-16T00:00:00",
          "2019-08-15T00:00:00",
          "2019-11-22T00:00:00",
          "2020-02-13T00:00:00",
          "2020-05-15T00:00:00",
          "2020-08-17T00:00:00",
          "2020-11-20T00:00:00",
          "2021-02-11T00:00:00",
          "2021-05-17T00:00:00",
          "2021-08-17T00:00:00",
          "2021-11-19T00:00:00",
          "2022-02-10T00:00:00",
          "2022-05-17T00:00:00",
          "2022-08-17T00:00:00",
          "2022-11-18T00:00:00",
          "2023-02-09T00:00:00",
          "2023-05-17T00:00:00",
          "2023-08-17T00:00:00"
         ],
         "xaxis": "x",
         "y": [
          0.08,
          1.04,
          0.08,
          0.08,
          0.08,
          1.026667,
          0.08,
          0.08,
          0.08,
          1.7,
          0.34,
          0.08,
          0.08,
          1.793333,
          0.08,
          0.08,
          0.06,
          0.103333,
          0.08,
          0.08,
          0.08,
          0.08,
          0.08,
          0.08,
          0.08,
          0.08,
          0.08,
          0.08,
          0.08,
          0.846667,
          0.088,
          0.088,
          0.08,
          0.84,
          0.076667,
          0.08,
          0.08,
          0.846667,
          0.08,
          0.08,
          0.08,
          0.083333,
          0.083333,
          0.083333,
          0.083333,
          0.866667,
          0.083333,
          0.083333,
          0.083333,
          0.906667,
          0.08,
          0.08,
          0.08,
          1.066667,
          0.08,
          0.08,
          0.08,
          1.16,
          0.083333,
          0.08,
          0.08,
          1.393333,
          0.08,
          0.08,
          0.08,
          1.61,
          0.08,
          0.08,
          0.08,
          1.41,
          0.08,
          0.08,
          0.08,
          0.52,
          0.05,
          0.05,
          0.05,
          0.63,
          0.05,
          0.05,
          0.05,
          0.75,
          0.05,
          0.05,
          0.05,
          0.71,
          0.05,
          0.05,
          0.05,
          0.75,
          0.05,
          0.05,
          0.05,
          0.88,
          0.05,
          0.05,
          0.05,
          0.49,
          0.05,
          0.05,
          0.05,
          0.3,
          0.05,
          0.05,
          0.05,
          0.36,
          0.05,
          0.05,
          0.05,
          0.5,
          0.05,
          0.05,
          0.05,
          0.52,
          0.05,
          0.05,
          0.05,
          0.69,
          0.05,
          0.05,
          0.05,
          1.03,
          0.04,
          0.05,
          0.05,
          0.01,
          0.05,
          0.05,
          0.05,
          0.05,
          0.05,
          0.05,
          0.05,
          1.23,
          0.05,
          0.05,
          0.05,
          1.85,
          0.05,
          0.05,
          0.05,
          1.27,
          0.05,
          0.05,
          0.05,
          0.88,
          0.05,
          0.05,
          0.05,
          0.07,
          0.05,
          0.05,
          0.05,
          0.92,
          0.05,
          0.05,
          0.05
         ],
         "yaxis": "y"
        }
       ],
       "layout": {
        "legend": {
         "tracegroupgap": 0
        },
        "template": {
         "data": {
          "bar": [
           {
            "error_x": {
             "color": "#2a3f5f"
            },
            "error_y": {
             "color": "#2a3f5f"
            },
            "marker": {
             "line": {
              "color": "#E5ECF6",
              "width": 0.5
             },
             "pattern": {
              "fillmode": "overlay",
              "size": 10,
              "solidity": 0.2
             }
            },
            "type": "bar"
           }
          ],
          "barpolar": [
           {
            "marker": {
             "line": {
              "color": "#E5ECF6",
              "width": 0.5
             },
             "pattern": {
              "fillmode": "overlay",
              "size": 10,
              "solidity": 0.2
             }
            },
            "type": "barpolar"
           }
          ],
          "carpet": [
           {
            "aaxis": {
             "endlinecolor": "#2a3f5f",
             "gridcolor": "white",
             "linecolor": "white",
             "minorgridcolor": "white",
             "startlinecolor": "#2a3f5f"
            },
            "baxis": {
             "endlinecolor": "#2a3f5f",
             "gridcolor": "white",
             "linecolor": "white",
             "minorgridcolor": "white",
             "startlinecolor": "#2a3f5f"
            },
            "type": "carpet"
           }
          ],
          "choropleth": [
           {
            "colorbar": {
             "outlinewidth": 0,
             "ticks": ""
            },
            "type": "choropleth"
           }
          ],
          "contour": [
           {
            "colorbar": {
             "outlinewidth": 0,
             "ticks": ""
            },
            "colorscale": [
             [
              0,
              "#0d0887"
             ],
             [
              0.1111111111111111,
              "#46039f"
             ],
             [
              0.2222222222222222,
              "#7201a8"
             ],
             [
              0.3333333333333333,
              "#9c179e"
             ],
             [
              0.4444444444444444,
              "#bd3786"
             ],
             [
              0.5555555555555556,
              "#d8576b"
             ],
             [
              0.6666666666666666,
              "#ed7953"
             ],
             [
              0.7777777777777778,
              "#fb9f3a"
             ],
             [
              0.8888888888888888,
              "#fdca26"
             ],
             [
              1,
              "#f0f921"
             ]
            ],
            "type": "contour"
           }
          ],
          "contourcarpet": [
           {
            "colorbar": {
             "outlinewidth": 0,
             "ticks": ""
            },
            "type": "contourcarpet"
           }
          ],
          "heatmap": [
           {
            "colorbar": {
             "outlinewidth": 0,
             "ticks": ""
            },
            "colorscale": [
             [
              0,
              "#0d0887"
             ],
             [
              0.1111111111111111,
              "#46039f"
             ],
             [
              0.2222222222222222,
              "#7201a8"
             ],
             [
              0.3333333333333333,
              "#9c179e"
             ],
             [
              0.4444444444444444,
              "#bd3786"
             ],
             [
              0.5555555555555556,
              "#d8576b"
             ],
             [
              0.6666666666666666,
              "#ed7953"
             ],
             [
              0.7777777777777778,
              "#fb9f3a"
             ],
             [
              0.8888888888888888,
              "#fdca26"
             ],
             [
              1,
              "#f0f921"
             ]
            ],
            "type": "heatmap"
           }
          ],
          "heatmapgl": [
           {
            "colorbar": {
             "outlinewidth": 0,
             "ticks": ""
            },
            "colorscale": [
             [
              0,
              "#0d0887"
             ],
             [
              0.1111111111111111,
              "#46039f"
             ],
             [
              0.2222222222222222,
              "#7201a8"
             ],
             [
              0.3333333333333333,
              "#9c179e"
             ],
             [
              0.4444444444444444,
              "#bd3786"
             ],
             [
              0.5555555555555556,
              "#d8576b"
             ],
             [
              0.6666666666666666,
              "#ed7953"
             ],
             [
              0.7777777777777778,
              "#fb9f3a"
             ],
             [
              0.8888888888888888,
              "#fdca26"
             ],
             [
              1,
              "#f0f921"
             ]
            ],
            "type": "heatmapgl"
           }
          ],
          "histogram": [
           {
            "marker": {
             "pattern": {
              "fillmode": "overlay",
              "size": 10,
              "solidity": 0.2
             }
            },
            "type": "histogram"
           }
          ],
          "histogram2d": [
           {
            "colorbar": {
             "outlinewidth": 0,
             "ticks": ""
            },
            "colorscale": [
             [
              0,
              "#0d0887"
             ],
             [
              0.1111111111111111,
              "#46039f"
             ],
             [
              0.2222222222222222,
              "#7201a8"
             ],
             [
              0.3333333333333333,
              "#9c179e"
             ],
             [
              0.4444444444444444,
              "#bd3786"
             ],
             [
              0.5555555555555556,
              "#d8576b"
             ],
             [
              0.6666666666666666,
              "#ed7953"
             ],
             [
              0.7777777777777778,
              "#fb9f3a"
             ],
             [
              0.8888888888888888,
              "#fdca26"
             ],
             [
              1,
              "#f0f921"
             ]
            ],
            "type": "histogram2d"
           }
          ],
          "histogram2dcontour": [
           {
            "colorbar": {
             "outlinewidth": 0,
             "ticks": ""
            },
            "colorscale": [
             [
              0,
              "#0d0887"
             ],
             [
              0.1111111111111111,
              "#46039f"
             ],
             [
              0.2222222222222222,
              "#7201a8"
             ],
             [
              0.3333333333333333,
              "#9c179e"
             ],
             [
              0.4444444444444444,
              "#bd3786"
             ],
             [
              0.5555555555555556,
              "#d8576b"
             ],
             [
              0.6666666666666666,
              "#ed7953"
             ],
             [
              0.7777777777777778,
              "#fb9f3a"
             ],
             [
              0.8888888888888888,
              "#fdca26"
             ],
             [
              1,
              "#f0f921"
             ]
            ],
            "type": "histogram2dcontour"
           }
          ],
          "mesh3d": [
           {
            "colorbar": {
             "outlinewidth": 0,
             "ticks": ""
            },
            "type": "mesh3d"
           }
          ],
          "parcoords": [
           {
            "line": {
             "colorbar": {
              "outlinewidth": 0,
              "ticks": ""
             }
            },
            "type": "parcoords"
           }
          ],
          "pie": [
           {
            "automargin": true,
            "type": "pie"
           }
          ],
          "scatter": [
           {
            "fillpattern": {
             "fillmode": "overlay",
             "size": 10,
             "solidity": 0.2
            },
            "type": "scatter"
           }
          ],
          "scatter3d": [
           {
            "line": {
             "colorbar": {
              "outlinewidth": 0,
              "ticks": ""
             }
            },
            "marker": {
             "colorbar": {
              "outlinewidth": 0,
              "ticks": ""
             }
            },
            "type": "scatter3d"
           }
          ],
          "scattercarpet": [
           {
            "marker": {
             "colorbar": {
              "outlinewidth": 0,
              "ticks": ""
             }
            },
            "type": "scattercarpet"
           }
          ],
          "scattergeo": [
           {
            "marker": {
             "colorbar": {
              "outlinewidth": 0,
              "ticks": ""
             }
            },
            "type": "scattergeo"
           }
          ],
          "scattergl": [
           {
            "marker": {
             "colorbar": {
              "outlinewidth": 0,
              "ticks": ""
             }
            },
            "type": "scattergl"
           }
          ],
          "scattermapbox": [
           {
            "marker": {
             "colorbar": {
              "outlinewidth": 0,
              "ticks": ""
             }
            },
            "type": "scattermapbox"
           }
          ],
          "scatterpolar": [
           {
            "marker": {
             "colorbar": {
              "outlinewidth": 0,
              "ticks": ""
             }
            },
            "type": "scatterpolar"
           }
          ],
          "scatterpolargl": [
           {
            "marker": {
             "colorbar": {
              "outlinewidth": 0,
              "ticks": ""
             }
            },
            "type": "scatterpolargl"
           }
          ],
          "scatterternary": [
           {
            "marker": {
             "colorbar": {
              "outlinewidth": 0,
              "ticks": ""
             }
            },
            "type": "scatterternary"
           }
          ],
          "surface": [
           {
            "colorbar": {
             "outlinewidth": 0,
             "ticks": ""
            },
            "colorscale": [
             [
              0,
              "#0d0887"
             ],
             [
              0.1111111111111111,
              "#46039f"
             ],
             [
              0.2222222222222222,
              "#7201a8"
             ],
             [
              0.3333333333333333,
              "#9c179e"
             ],
             [
              0.4444444444444444,
              "#bd3786"
             ],
             [
              0.5555555555555556,
              "#d8576b"
             ],
             [
              0.6666666666666666,
              "#ed7953"
             ],
             [
              0.7777777777777778,
              "#fb9f3a"
             ],
             [
              0.8888888888888888,
              "#fdca26"
             ],
             [
              1,
              "#f0f921"
             ]
            ],
            "type": "surface"
           }
          ],
          "table": [
           {
            "cells": {
             "fill": {
              "color": "#EBF0F8"
             },
             "line": {
              "color": "white"
             }
            },
            "header": {
             "fill": {
              "color": "#C8D4E3"
             },
             "line": {
              "color": "white"
             }
            },
            "type": "table"
           }
          ]
         },
         "layout": {
          "annotationdefaults": {
           "arrowcolor": "#2a3f5f",
           "arrowhead": 0,
           "arrowwidth": 1
          },
          "autotypenumbers": "strict",
          "coloraxis": {
           "colorbar": {
            "outlinewidth": 0,
            "ticks": ""
           }
          },
          "colorscale": {
           "diverging": [
            [
             0,
             "#8e0152"
            ],
            [
             0.1,
             "#c51b7d"
            ],
            [
             0.2,
             "#de77ae"
            ],
            [
             0.3,
             "#f1b6da"
            ],
            [
             0.4,
             "#fde0ef"
            ],
            [
             0.5,
             "#f7f7f7"
            ],
            [
             0.6,
             "#e6f5d0"
            ],
            [
             0.7,
             "#b8e186"
            ],
            [
             0.8,
             "#7fbc41"
            ],
            [
             0.9,
             "#4d9221"
            ],
            [
             1,
             "#276419"
            ]
           ],
           "sequential": [
            [
             0,
             "#0d0887"
            ],
            [
             0.1111111111111111,
             "#46039f"
            ],
            [
             0.2222222222222222,
             "#7201a8"
            ],
            [
             0.3333333333333333,
             "#9c179e"
            ],
            [
             0.4444444444444444,
             "#bd3786"
            ],
            [
             0.5555555555555556,
             "#d8576b"
            ],
            [
             0.6666666666666666,
             "#ed7953"
            ],
            [
             0.7777777777777778,
             "#fb9f3a"
            ],
            [
             0.8888888888888888,
             "#fdca26"
            ],
            [
             1,
             "#f0f921"
            ]
           ],
           "sequentialminus": [
            [
             0,
             "#0d0887"
            ],
            [
             0.1111111111111111,
             "#46039f"
            ],
            [
             0.2222222222222222,
             "#7201a8"
            ],
            [
             0.3333333333333333,
             "#9c179e"
            ],
            [
             0.4444444444444444,
             "#bd3786"
            ],
            [
             0.5555555555555556,
             "#d8576b"
            ],
            [
             0.6666666666666666,
             "#ed7953"
            ],
            [
             0.7777777777777778,
             "#fb9f3a"
            ],
            [
             0.8888888888888888,
             "#fdca26"
            ],
            [
             1,
             "#f0f921"
            ]
           ]
          },
          "colorway": [
           "#636efa",
           "#EF553B",
           "#00cc96",
           "#ab63fa",
           "#FFA15A",
           "#19d3f3",
           "#FF6692",
           "#B6E880",
           "#FF97FF",
           "#FECB52"
          ],
          "font": {
           "color": "#2a3f5f"
          },
          "geo": {
           "bgcolor": "white",
           "lakecolor": "white",
           "landcolor": "#E5ECF6",
           "showlakes": true,
           "showland": true,
           "subunitcolor": "white"
          },
          "hoverlabel": {
           "align": "left"
          },
          "hovermode": "closest",
          "mapbox": {
           "style": "light"
          },
          "paper_bgcolor": "white",
          "plot_bgcolor": "#E5ECF6",
          "polar": {
           "angularaxis": {
            "gridcolor": "white",
            "linecolor": "white",
            "ticks": ""
           },
           "bgcolor": "#E5ECF6",
           "radialaxis": {
            "gridcolor": "white",
            "linecolor": "white",
            "ticks": ""
           }
          },
          "scene": {
           "xaxis": {
            "backgroundcolor": "#E5ECF6",
            "gridcolor": "white",
            "gridwidth": 2,
            "linecolor": "white",
            "showbackground": true,
            "ticks": "",
            "zerolinecolor": "white"
           },
           "yaxis": {
            "backgroundcolor": "#E5ECF6",
            "gridcolor": "white",
            "gridwidth": 2,
            "linecolor": "white",
            "showbackground": true,
            "ticks": "",
            "zerolinecolor": "white"
           },
           "zaxis": {
            "backgroundcolor": "#E5ECF6",
            "gridcolor": "white",
            "gridwidth": 2,
            "linecolor": "white",
            "showbackground": true,
            "ticks": "",
            "zerolinecolor": "white"
           }
          },
          "shapedefaults": {
           "line": {
            "color": "#2a3f5f"
           }
          },
          "ternary": {
           "aaxis": {
            "gridcolor": "white",
            "linecolor": "white",
            "ticks": ""
           },
           "baxis": {
            "gridcolor": "white",
            "linecolor": "white",
            "ticks": ""
           },
           "bgcolor": "#E5ECF6",
           "caxis": {
            "gridcolor": "white",
            "linecolor": "white",
            "ticks": ""
           }
          },
          "title": {
           "x": 0.05
          },
          "xaxis": {
           "automargin": true,
           "gridcolor": "white",
           "linecolor": "white",
           "ticks": "",
           "title": {
            "standoff": 15
           },
           "zerolinecolor": "white",
           "zerolinewidth": 2
          },
          "yaxis": {
           "automargin": true,
           "gridcolor": "white",
           "linecolor": "white",
           "ticks": "",
           "title": {
            "standoff": 15
           },
           "zerolinecolor": "white",
           "zerolinewidth": 2
          }
         }
        },
        "title": {
         "text": "Dividend History"
        },
        "xaxis": {
         "anchor": "y",
         "domain": [
          0,
          1
         ],
         "title": {
          "text": "Date"
         }
        },
        "yaxis": {
         "anchor": "x",
         "domain": [
          0,
          1
         ],
         "title": {
          "text": "Dividends"
         }
        }
       }
      }
     },
     "metadata": {},
     "output_type": "display_data"
    }
   ],
   "source": [
    "#   plot dividend_data using px.line\n",
    "\n",
    "fig = px.line(dividend_data, x=dividend_data.index, y=\"Dividends\", title='Dividend History')\n",
    "\n",
    "fig.show()"
   ]
  },
  {
   "cell_type": "code",
   "execution_count": 356,
   "metadata": {},
   "outputs": [
    {
     "data": {
      "text/html": [
       "<div>\n",
       "<style scoped>\n",
       "    .dataframe tbody tr th:only-of-type {\n",
       "        vertical-align: middle;\n",
       "    }\n",
       "\n",
       "    .dataframe tbody tr th {\n",
       "        vertical-align: top;\n",
       "    }\n",
       "\n",
       "    .dataframe thead th {\n",
       "        text-align: right;\n",
       "    }\n",
       "</style>\n",
       "<table border=\"1\" class=\"dataframe\">\n",
       "  <thead>\n",
       "    <tr style=\"text-align: right;\">\n",
       "      <th></th>\n",
       "      <th>Open</th>\n",
       "      <th>High</th>\n",
       "      <th>Low</th>\n",
       "      <th>Close</th>\n",
       "      <th>Adj Close</th>\n",
       "      <th>Volume</th>\n",
       "      <th>Dividends</th>\n",
       "      <th>Stock Splits</th>\n",
       "    </tr>\n",
       "    <tr>\n",
       "      <th>Date</th>\n",
       "      <th></th>\n",
       "      <th></th>\n",
       "      <th></th>\n",
       "      <th></th>\n",
       "      <th></th>\n",
       "      <th></th>\n",
       "      <th></th>\n",
       "      <th></th>\n",
       "    </tr>\n",
       "  </thead>\n",
       "  <tbody>\n",
       "    <tr>\n",
       "      <th>2000-10-20</th>\n",
       "      <td>24.6875</td>\n",
       "      <td>25.1875</td>\n",
       "      <td>24.625</td>\n",
       "      <td>25.125</td>\n",
       "      <td>5.480684</td>\n",
       "      <td>44800</td>\n",
       "      <td>0.0</td>\n",
       "      <td>1.5</td>\n",
       "    </tr>\n",
       "  </tbody>\n",
       "</table>\n",
       "</div>"
      ],
      "text/plain": [
       "               Open     High     Low   Close  Adj Close  Volume  Dividends  \\\n",
       "Date                                                                         \n",
       "2000-10-20  24.6875  25.1875  24.625  25.125   5.480684   44800        0.0   \n",
       "\n",
       "            Stock Splits  \n",
       "Date                      \n",
       "2000-10-20           1.5  "
      ]
     },
     "execution_count": 356,
     "metadata": {},
     "output_type": "execute_result"
    }
   ],
   "source": [
    "data[data['Stock Splits'] > 0]"
   ]
  },
  {
   "cell_type": "markdown",
   "metadata": {},
   "source": [
    "Based on:\n",
    "\n",
    "CoE = 10% dividennd growth = 5% next years dividend is going to be 5$ per share. calculate the fair price per share\n",
    "\n",
    "---------------------------------------------------------------------------------\n",
    "\n",
    "The fair price per share can be calculated using the Gordon Growth Model (Dividend Discount Model), which is a method for valuing a stock by assuming that dividends are going to grow at a constant rate indefinitely.\n",
    "\n",
    "The formula for the Gordon Growth Model is:\n",
    "\n",
    "P0=D0(1+g)r−gP0​=r−gD0​(1+g)​\n",
    "\n",
    "Where:\n",
    "\n",
    "    P0​ is the fair price per share\n",
    "    D0​ is the dividend just paid\n",
    "    g is the growth rate of the dividend\n",
    "    r is the required rate of return (Cost of Equity)\n",
    "\n",
    "Since the next year's dividend is given as $5, it means D_1 = $5, not D0D0​. To find D0D0​, we need to discount D1D1​ back one period at the dividend growth rate:\n",
    "\n",
    "D0=D11+g=51+0.05=51.05≈4.76D0​=1+gD1​​=1+0.055​=1.055​≈4.76\n",
    "\n",
    "Now, plug the values into the formula:\n",
    "\n",
    "P0=D0(1+g)r−g=4.76(1+0.05)0.10−0.05=4.76(1.05)0.05=5.000.05=100P0​=r−gD0​(1+g)​=0.10−0.054.76(1+0.05)​=0.054.76(1.05)​=0.055.00​=100"
   ]
  },
  {
   "cell_type": "code",
   "execution_count": null,
   "metadata": {},
   "outputs": [],
   "source": []
  }
 ],
 "metadata": {
  "kernelspec": {
   "display_name": "Python 3",
   "language": "python",
   "name": "python3"
  },
  "language_info": {
   "codemirror_mode": {
    "name": "ipython",
    "version": 3
   },
   "file_extension": ".py",
   "mimetype": "text/x-python",
   "name": "python",
   "nbconvert_exporter": "python",
   "pygments_lexer": "ipython3",
   "version": "3.10.7"
  },
  "orig_nbformat": 4
 },
 "nbformat": 4,
 "nbformat_minor": 2
}

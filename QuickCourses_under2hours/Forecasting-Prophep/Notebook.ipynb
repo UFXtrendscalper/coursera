{
 "cells": [
  {
   "cell_type": "code",
   "execution_count": 2,
   "metadata": {},
   "outputs": [],
   "source": [
    "import pandas as pd\n",
    "import yfinance as yf"
   ]
  },
  {
   "cell_type": "code",
   "execution_count": 3,
   "metadata": {},
   "outputs": [
    {
     "name": "stdout",
     "output_type": "stream",
     "text": [
      "[*********************100%***********************]  2 of 2 completed\n"
     ]
    },
    {
     "data": {
      "text/html": [
       "<div>\n",
       "<style scoped>\n",
       "    .dataframe tbody tr th:only-of-type {\n",
       "        vertical-align: middle;\n",
       "    }\n",
       "\n",
       "    .dataframe tbody tr th {\n",
       "        vertical-align: top;\n",
       "    }\n",
       "\n",
       "    .dataframe thead tr th {\n",
       "        text-align: left;\n",
       "    }\n",
       "\n",
       "    .dataframe thead tr:last-of-type th {\n",
       "        text-align: right;\n",
       "    }\n",
       "</style>\n",
       "<table border=\"1\" class=\"dataframe\">\n",
       "  <thead>\n",
       "    <tr>\n",
       "      <th></th>\n",
       "      <th colspan=\"2\" halign=\"left\">Adj Close</th>\n",
       "      <th colspan=\"2\" halign=\"left\">Close</th>\n",
       "      <th colspan=\"2\" halign=\"left\">High</th>\n",
       "      <th colspan=\"2\" halign=\"left\">Low</th>\n",
       "      <th colspan=\"2\" halign=\"left\">Open</th>\n",
       "      <th colspan=\"2\" halign=\"left\">Volume</th>\n",
       "    </tr>\n",
       "    <tr>\n",
       "      <th></th>\n",
       "      <th>CAD=X</th>\n",
       "      <th>^GSPC</th>\n",
       "      <th>CAD=X</th>\n",
       "      <th>^GSPC</th>\n",
       "      <th>CAD=X</th>\n",
       "      <th>^GSPC</th>\n",
       "      <th>CAD=X</th>\n",
       "      <th>^GSPC</th>\n",
       "      <th>CAD=X</th>\n",
       "      <th>^GSPC</th>\n",
       "      <th>CAD=X</th>\n",
       "      <th>^GSPC</th>\n",
       "    </tr>\n",
       "    <tr>\n",
       "      <th>Date</th>\n",
       "      <th></th>\n",
       "      <th></th>\n",
       "      <th></th>\n",
       "      <th></th>\n",
       "      <th></th>\n",
       "      <th></th>\n",
       "      <th></th>\n",
       "      <th></th>\n",
       "      <th></th>\n",
       "      <th></th>\n",
       "      <th></th>\n",
       "      <th></th>\n",
       "    </tr>\n",
       "  </thead>\n",
       "  <tbody>\n",
       "    <tr>\n",
       "      <th>2019-01-01</th>\n",
       "      <td>1.33943</td>\n",
       "      <td>NaN</td>\n",
       "      <td>1.33943</td>\n",
       "      <td>NaN</td>\n",
       "      <td>1.36460</td>\n",
       "      <td>NaN</td>\n",
       "      <td>1.32631</td>\n",
       "      <td>NaN</td>\n",
       "      <td>1.33943</td>\n",
       "      <td>NaN</td>\n",
       "      <td>0.0</td>\n",
       "      <td>NaN</td>\n",
       "    </tr>\n",
       "    <tr>\n",
       "      <th>2019-01-02</th>\n",
       "      <td>1.36254</td>\n",
       "      <td>2510.030029</td>\n",
       "      <td>1.36254</td>\n",
       "      <td>2510.030029</td>\n",
       "      <td>1.36596</td>\n",
       "      <td>2519.489990</td>\n",
       "      <td>1.35690</td>\n",
       "      <td>2467.469971</td>\n",
       "      <td>1.36250</td>\n",
       "      <td>2476.959961</td>\n",
       "      <td>0.0</td>\n",
       "      <td>3.733160e+09</td>\n",
       "    </tr>\n",
       "    <tr>\n",
       "      <th>2019-01-03</th>\n",
       "      <td>1.36312</td>\n",
       "      <td>2447.889893</td>\n",
       "      <td>1.36312</td>\n",
       "      <td>2447.889893</td>\n",
       "      <td>1.36440</td>\n",
       "      <td>2493.139893</td>\n",
       "      <td>1.34736</td>\n",
       "      <td>2443.959961</td>\n",
       "      <td>1.36300</td>\n",
       "      <td>2491.919922</td>\n",
       "      <td>0.0</td>\n",
       "      <td>3.858830e+09</td>\n",
       "    </tr>\n",
       "    <tr>\n",
       "      <th>2019-01-04</th>\n",
       "      <td>1.34788</td>\n",
       "      <td>2531.939941</td>\n",
       "      <td>1.34788</td>\n",
       "      <td>2531.939941</td>\n",
       "      <td>1.34906</td>\n",
       "      <td>2538.070068</td>\n",
       "      <td>1.33814</td>\n",
       "      <td>2474.330078</td>\n",
       "      <td>1.34760</td>\n",
       "      <td>2474.330078</td>\n",
       "      <td>0.0</td>\n",
       "      <td>4.234140e+09</td>\n",
       "    </tr>\n",
       "    <tr>\n",
       "      <th>2019-01-07</th>\n",
       "      <td>1.33693</td>\n",
       "      <td>2549.689941</td>\n",
       "      <td>1.33693</td>\n",
       "      <td>2549.689941</td>\n",
       "      <td>1.33760</td>\n",
       "      <td>2566.159912</td>\n",
       "      <td>1.32882</td>\n",
       "      <td>2524.560059</td>\n",
       "      <td>1.33689</td>\n",
       "      <td>2535.610107</td>\n",
       "      <td>0.0</td>\n",
       "      <td>4.133120e+09</td>\n",
       "    </tr>\n",
       "  </tbody>\n",
       "</table>\n",
       "</div>"
      ],
      "text/plain": [
       "           Adj Close                 Close                  High               \\\n",
       "               CAD=X        ^GSPC    CAD=X        ^GSPC    CAD=X        ^GSPC   \n",
       "Date                                                                            \n",
       "2019-01-01   1.33943          NaN  1.33943          NaN  1.36460          NaN   \n",
       "2019-01-02   1.36254  2510.030029  1.36254  2510.030029  1.36596  2519.489990   \n",
       "2019-01-03   1.36312  2447.889893  1.36312  2447.889893  1.36440  2493.139893   \n",
       "2019-01-04   1.34788  2531.939941  1.34788  2531.939941  1.34906  2538.070068   \n",
       "2019-01-07   1.33693  2549.689941  1.33693  2549.689941  1.33760  2566.159912   \n",
       "\n",
       "                Low                  Open              Volume                \n",
       "              CAD=X        ^GSPC    CAD=X        ^GSPC  CAD=X         ^GSPC  \n",
       "Date                                                                         \n",
       "2019-01-01  1.32631          NaN  1.33943          NaN    0.0           NaN  \n",
       "2019-01-02  1.35690  2467.469971  1.36250  2476.959961    0.0  3.733160e+09  \n",
       "2019-01-03  1.34736  2443.959961  1.36300  2491.919922    0.0  3.858830e+09  \n",
       "2019-01-04  1.33814  2474.330078  1.34760  2474.330078    0.0  4.234140e+09  \n",
       "2019-01-07  1.32882  2524.560059  1.33689  2535.610107    0.0  4.133120e+09  "
      ]
     },
     "execution_count": 3,
     "metadata": {},
     "output_type": "execute_result"
    }
   ],
   "source": [
    "# download CAD-X and ^GSPC from yfinance\n",
    "tickers = ['CAD=X', '^GSPC']\n",
    "\n",
    "# download data from yfinance\n",
    "\n",
    "data = yf.download(tickers, start=\"2019-01-01\", end=\"2023-09-26\")\n",
    "data.head()"
   ]
  },
  {
   "cell_type": "code",
   "execution_count": 4,
   "metadata": {},
   "outputs": [
    {
     "data": {
      "text/html": [
       "<div>\n",
       "<style scoped>\n",
       "    .dataframe tbody tr th:only-of-type {\n",
       "        vertical-align: middle;\n",
       "    }\n",
       "\n",
       "    .dataframe tbody tr th {\n",
       "        vertical-align: top;\n",
       "    }\n",
       "\n",
       "    .dataframe thead th {\n",
       "        text-align: right;\n",
       "    }\n",
       "</style>\n",
       "<table border=\"1\" class=\"dataframe\">\n",
       "  <thead>\n",
       "    <tr style=\"text-align: right;\">\n",
       "      <th></th>\n",
       "      <th>CAD=X</th>\n",
       "      <th>^GSPC</th>\n",
       "    </tr>\n",
       "    <tr>\n",
       "      <th>Date</th>\n",
       "      <th></th>\n",
       "      <th></th>\n",
       "    </tr>\n",
       "  </thead>\n",
       "  <tbody>\n",
       "    <tr>\n",
       "      <th>2019-01-01</th>\n",
       "      <td>1.33943</td>\n",
       "      <td>NaN</td>\n",
       "    </tr>\n",
       "    <tr>\n",
       "      <th>2019-01-02</th>\n",
       "      <td>1.36254</td>\n",
       "      <td>2510.030029</td>\n",
       "    </tr>\n",
       "    <tr>\n",
       "      <th>2019-01-03</th>\n",
       "      <td>1.36312</td>\n",
       "      <td>2447.889893</td>\n",
       "    </tr>\n",
       "    <tr>\n",
       "      <th>2019-01-04</th>\n",
       "      <td>1.34788</td>\n",
       "      <td>2531.939941</td>\n",
       "    </tr>\n",
       "    <tr>\n",
       "      <th>2019-01-07</th>\n",
       "      <td>1.33693</td>\n",
       "      <td>2549.689941</td>\n",
       "    </tr>\n",
       "  </tbody>\n",
       "</table>\n",
       "</div>"
      ],
      "text/plain": [
       "              CAD=X        ^GSPC\n",
       "Date                            \n",
       "2019-01-01  1.33943          NaN\n",
       "2019-01-02  1.36254  2510.030029\n",
       "2019-01-03  1.36312  2447.889893\n",
       "2019-01-04  1.34788  2531.939941\n",
       "2019-01-07  1.33693  2549.689941"
      ]
     },
     "execution_count": 4,
     "metadata": {},
     "output_type": "execute_result"
    }
   ],
   "source": [
    "# drop all columns except the close price\n",
    "data = data['Close']\n",
    "data.head()"
   ]
  },
  {
   "cell_type": "code",
   "execution_count": 5,
   "metadata": {},
   "outputs": [
    {
     "data": {
      "text/plain": [
       "CAD=X     1\n",
       "^GSPC    44\n",
       "dtype: int64"
      ]
     },
     "execution_count": 5,
     "metadata": {},
     "output_type": "execute_result"
    }
   ],
   "source": [
    "data.isna().sum()"
   ]
  },
  {
   "cell_type": "code",
   "execution_count": 6,
   "metadata": {},
   "outputs": [
    {
     "data": {
      "text/plain": [
       "CAD=X    0\n",
       "^GSPC    0\n",
       "dtype: int64"
      ]
     },
     "execution_count": 6,
     "metadata": {},
     "output_type": "execute_result"
    }
   ],
   "source": [
    "#  drop all rows with missing values\n",
    "\n",
    "data = data.dropna()\n",
    "data.isna().sum()"
   ]
  },
  {
   "cell_type": "code",
   "execution_count": 7,
   "metadata": {},
   "outputs": [
    {
     "data": {
      "text/html": [
       "<div>\n",
       "<style scoped>\n",
       "    .dataframe tbody tr th:only-of-type {\n",
       "        vertical-align: middle;\n",
       "    }\n",
       "\n",
       "    .dataframe tbody tr th {\n",
       "        vertical-align: top;\n",
       "    }\n",
       "\n",
       "    .dataframe thead th {\n",
       "        text-align: right;\n",
       "    }\n",
       "</style>\n",
       "<table border=\"1\" class=\"dataframe\">\n",
       "  <thead>\n",
       "    <tr style=\"text-align: right;\">\n",
       "      <th></th>\n",
       "      <th>CAD=X</th>\n",
       "      <th>^GSPC</th>\n",
       "    </tr>\n",
       "  </thead>\n",
       "  <tbody>\n",
       "    <tr>\n",
       "      <th>CAD=X</th>\n",
       "      <td>1.000000</td>\n",
       "      <td>-0.557403</td>\n",
       "    </tr>\n",
       "    <tr>\n",
       "      <th>^GSPC</th>\n",
       "      <td>-0.557403</td>\n",
       "      <td>1.000000</td>\n",
       "    </tr>\n",
       "  </tbody>\n",
       "</table>\n",
       "</div>"
      ],
      "text/plain": [
       "          CAD=X     ^GSPC\n",
       "CAD=X  1.000000 -0.557403\n",
       "^GSPC -0.557403  1.000000"
      ]
     },
     "execution_count": 7,
     "metadata": {},
     "output_type": "execute_result"
    }
   ],
   "source": [
    "# check the correlation between CAD-X and ^GSPC\n",
    "\n",
    "data.corr()"
   ]
  },
  {
   "cell_type": "code",
   "execution_count": 8,
   "metadata": {},
   "outputs": [],
   "source": [
    "import matplotlib.pyplot as plt\n",
    "import seaborn as sns"
   ]
  },
  {
   "cell_type": "code",
   "execution_count": 10,
   "metadata": {},
   "outputs": [
    {
     "data": {
      "image/png": "[encoded data removed]",
      "text/plain": [
       "<Figure size 640x480 with 2 Axes>"
      ]
     },
     "metadata": {},
     "output_type": "display_data"
    }
   ],
   "source": [
    "# visulaize the correlation using a heatmap using sns.heatmap()\n",
    "\n",
    "sns.heatmap(data.corr(), annot=True, cmap='coolwarm')\n",
    "plt.show()"
   ]
  },
  {
   "cell_type": "code",
   "execution_count": null,
   "metadata": {},
   "outputs": [],
   "source": []
  }
 ],
 "metadata": {
  "kernelspec": {
   "display_name": "Python 3",
   "language": "python",
   "name": "python3"
  },
  "language_info": {
   "codemirror_mode": {
    "name": "ipython",
    "version": 3
   },
   "file_extension": ".py",
   "mimetype": "text/x-python",
   "name": "python",
   "nbconvert_exporter": "python",
   "pygments_lexer": "ipython3",
   "version": "3.10.7"
  },
  "orig_nbformat": 4
 },
 "nbformat": 4,
 "nbformat_minor": 2
}
